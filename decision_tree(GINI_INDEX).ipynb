{
  "nbformat": 4,
  "nbformat_minor": 0,
  "metadata": {
    "colab": {
      "provenance": [],
      "collapsed_sections": []
    },
    "kernelspec": {
      "name": "python3",
      "display_name": "Python 3"
    },
    "language_info": {
      "name": "python"
    }
  },
  "cells": [
    {
      "cell_type": "code",
      "source": [
        "import pandas as pd\n",
        "import numpy as np\n",
        "import matplotlib.pyplot as plt\n",
        "from sklearn.model_selection import train_test_split\n",
        "from sklearn.preprocessing import StandardScaler\n",
        "from sklearn.tree import DecisionTreeClassifier\n",
        "from sklearn import metrics\n",
        "from sklearn.metrics import confusion_matrix\n",
        "from sklearn import tree\n",
        "from sklearn.tree import export_graphviz\n",
        "import graphviz"
      ],
      "metadata": {
        "id": "HkKQ0xQ9KFs6"
      },
      "execution_count": 2,
      "outputs": []
    },
    {
      "cell_type": "markdown",
      "source": [
        "PREPROCESSING"
      ],
      "metadata": {
        "id": "AwmktLJh0aYH"
      }
    },
    {
      "cell_type": "code",
      "source": [
        "df=pd.read_csv('nasa dataset.csv')\n",
        "df"
      ],
      "metadata": {
        "colab": {
          "base_uri": "https://localhost:8080/",
          "height": 522
        },
        "id": "8Wj3QaZllEcN",
        "outputId": "7ac381b8-7112-481a-f278-0b0c45549f2a"
      },
      "execution_count": 3,
      "outputs": [
        {
          "output_type": "execute_result",
          "data": {
            "text/plain": [
              "      Neo Reference ID     Name  Absolute Magnitude  Est Dia in KM(min)  \\\n",
              "0              3703080  3703080              21.600            0.127220   \n",
              "1              3723955  3723955              21.300            0.146068   \n",
              "2              2446862  2446862              20.300            0.231502   \n",
              "3              3092506  3092506              27.400            0.008801   \n",
              "4              3514799  3514799              21.600            0.127220   \n",
              "...                ...      ...                 ...                 ...   \n",
              "4682           3759007  3759007              23.900            0.044112   \n",
              "4683           3759295  3759295              28.200            0.006089   \n",
              "4684           3759714  3759714              22.700            0.076658   \n",
              "4685           3759720  3759720              21.800            0.116026   \n",
              "4686           3772978  3772978              19.109            0.400641   \n",
              "\n",
              "      Est Dia in KM(max)  Est Dia in M(min)  Est Dia in M(max)  \\\n",
              "0               0.284472         127.219878         284.472297   \n",
              "1               0.326618         146.067964         326.617897   \n",
              "2               0.517654         231.502122         517.654482   \n",
              "3               0.019681           8.801465          19.680675   \n",
              "4               0.284472         127.219878         284.472297   \n",
              "...                  ...                ...                ...   \n",
              "4682            0.098637          44.111820          98.637028   \n",
              "4683            0.013616           6.089126          13.615700   \n",
              "4684            0.171412          76.657557         171.411509   \n",
              "4685            0.259442         116.025908         259.441818   \n",
              "4686            0.895860         400.640618         895.859655   \n",
              "\n",
              "      Est Dia in Miles(min)  Est Dia in Miles(max)  Est Dia in Feet(min)  ...  \\\n",
              "0                  0.079051               0.176763            417.388066  ...   \n",
              "1                  0.090762               0.202951            479.225620  ...   \n",
              "2                  0.143849               0.321655            759.521423  ...   \n",
              "3                  0.005469               0.012229             28.876199  ...   \n",
              "4                  0.079051               0.176763            417.388066  ...   \n",
              "...                     ...                    ...                   ...  ...   \n",
              "4682               0.027410               0.061290            144.723824  ...   \n",
              "4683               0.003784               0.008460             19.977449  ...   \n",
              "4684               0.047633               0.106510            251.501181  ...   \n",
              "4685               0.072095               0.161210            380.662441  ...   \n",
              "4686               0.248946               0.556661           1314.437764  ...   \n",
              "\n",
              "      Asc Node Longitude Orbital Period  Perihelion Distance  Perihelion Arg  \\\n",
              "0             314.373913     609.599786             0.808259       57.257470   \n",
              "1             136.717242     425.869294             0.718200      313.091975   \n",
              "2             259.475979     643.580228             0.950791      248.415038   \n",
              "3              57.173266     514.082140             0.983902       18.707701   \n",
              "4              84.629307     495.597821             0.967687      158.263596   \n",
              "...                  ...            ...                  ...             ...   \n",
              "4682          164.183305     457.179984             0.741558      276.395697   \n",
              "4683          345.225230     407.185767             0.996434       42.111064   \n",
              "4684           37.026468     690.054279             0.965760      274.692712   \n",
              "4685          163.802909     662.048343             1.185467      180.346090   \n",
              "4686          187.642183     653.679098             0.876110      222.436688   \n",
              "\n",
              "      Aphelion Dist  Perihelion Time  Mean Anomaly  Mean Motion  Equinox  \\\n",
              "0          2.005764      2458161.642    264.837533     0.590551    J2000   \n",
              "1          1.497352      2457794.969    173.741112     0.845330    J2000   \n",
              "2          1.966857      2458120.468    292.893654     0.559371    J2000   \n",
              "3          1.527904      2457902.337     68.741007     0.700277    J2000   \n",
              "4          1.483543      2457814.455    135.142133     0.726395    J2000   \n",
              "...             ...              ...           ...          ...      ...   \n",
              "4682       1.581299      2457708.228    304.306024     0.787436    J2000   \n",
              "4683       1.153835      2458087.617    282.978786     0.884117    J2000   \n",
              "4684       2.090708      2458300.480    203.501147     0.521698    J2000   \n",
              "4685       1.787733      2458288.261    203.524965     0.543767    J2000   \n",
              "4686       2.071980      2458318.587    184.820424     0.550729    J2000   \n",
              "\n",
              "      Hazardous  \n",
              "0          True  \n",
              "1         False  \n",
              "2          True  \n",
              "3         False  \n",
              "4          True  \n",
              "...         ...  \n",
              "4682      False  \n",
              "4683      False  \n",
              "4684      False  \n",
              "4685      False  \n",
              "4686      False  \n",
              "\n",
              "[4687 rows x 40 columns]"
            ],
            "text/html": [
              "\n",
              "  <div id=\"df-1d533a61-03f1-484e-8684-6b22bee0d2b4\">\n",
              "    <div class=\"colab-df-container\">\n",
              "      <div>\n",
              "<style scoped>\n",
              "    .dataframe tbody tr th:only-of-type {\n",
              "        vertical-align: middle;\n",
              "    }\n",
              "\n",
              "    .dataframe tbody tr th {\n",
              "        vertical-align: top;\n",
              "    }\n",
              "\n",
              "    .dataframe thead th {\n",
              "        text-align: right;\n",
              "    }\n",
              "</style>\n",
              "<table border=\"1\" class=\"dataframe\">\n",
              "  <thead>\n",
              "    <tr style=\"text-align: right;\">\n",
              "      <th></th>\n",
              "      <th>Neo Reference ID</th>\n",
              "      <th>Name</th>\n",
              "      <th>Absolute Magnitude</th>\n",
              "      <th>Est Dia in KM(min)</th>\n",
              "      <th>Est Dia in KM(max)</th>\n",
              "      <th>Est Dia in M(min)</th>\n",
              "      <th>Est Dia in M(max)</th>\n",
              "      <th>Est Dia in Miles(min)</th>\n",
              "      <th>Est Dia in Miles(max)</th>\n",
              "      <th>Est Dia in Feet(min)</th>\n",
              "      <th>...</th>\n",
              "      <th>Asc Node Longitude</th>\n",
              "      <th>Orbital Period</th>\n",
              "      <th>Perihelion Distance</th>\n",
              "      <th>Perihelion Arg</th>\n",
              "      <th>Aphelion Dist</th>\n",
              "      <th>Perihelion Time</th>\n",
              "      <th>Mean Anomaly</th>\n",
              "      <th>Mean Motion</th>\n",
              "      <th>Equinox</th>\n",
              "      <th>Hazardous</th>\n",
              "    </tr>\n",
              "  </thead>\n",
              "  <tbody>\n",
              "    <tr>\n",
              "      <th>0</th>\n",
              "      <td>3703080</td>\n",
              "      <td>3703080</td>\n",
              "      <td>21.600</td>\n",
              "      <td>0.127220</td>\n",
              "      <td>0.284472</td>\n",
              "      <td>127.219878</td>\n",
              "      <td>284.472297</td>\n",
              "      <td>0.079051</td>\n",
              "      <td>0.176763</td>\n",
              "      <td>417.388066</td>\n",
              "      <td>...</td>\n",
              "      <td>314.373913</td>\n",
              "      <td>609.599786</td>\n",
              "      <td>0.808259</td>\n",
              "      <td>57.257470</td>\n",
              "      <td>2.005764</td>\n",
              "      <td>2458161.642</td>\n",
              "      <td>264.837533</td>\n",
              "      <td>0.590551</td>\n",
              "      <td>J2000</td>\n",
              "      <td>True</td>\n",
              "    </tr>\n",
              "    <tr>\n",
              "      <th>1</th>\n",
              "      <td>3723955</td>\n",
              "      <td>3723955</td>\n",
              "      <td>21.300</td>\n",
              "      <td>0.146068</td>\n",
              "      <td>0.326618</td>\n",
              "      <td>146.067964</td>\n",
              "      <td>326.617897</td>\n",
              "      <td>0.090762</td>\n",
              "      <td>0.202951</td>\n",
              "      <td>479.225620</td>\n",
              "      <td>...</td>\n",
              "      <td>136.717242</td>\n",
              "      <td>425.869294</td>\n",
              "      <td>0.718200</td>\n",
              "      <td>313.091975</td>\n",
              "      <td>1.497352</td>\n",
              "      <td>2457794.969</td>\n",
              "      <td>173.741112</td>\n",
              "      <td>0.845330</td>\n",
              "      <td>J2000</td>\n",
              "      <td>False</td>\n",
              "    </tr>\n",
              "    <tr>\n",
              "      <th>2</th>\n",
              "      <td>2446862</td>\n",
              "      <td>2446862</td>\n",
              "      <td>20.300</td>\n",
              "      <td>0.231502</td>\n",
              "      <td>0.517654</td>\n",
              "      <td>231.502122</td>\n",
              "      <td>517.654482</td>\n",
              "      <td>0.143849</td>\n",
              "      <td>0.321655</td>\n",
              "      <td>759.521423</td>\n",
              "      <td>...</td>\n",
              "      <td>259.475979</td>\n",
              "      <td>643.580228</td>\n",
              "      <td>0.950791</td>\n",
              "      <td>248.415038</td>\n",
              "      <td>1.966857</td>\n",
              "      <td>2458120.468</td>\n",
              "      <td>292.893654</td>\n",
              "      <td>0.559371</td>\n",
              "      <td>J2000</td>\n",
              "      <td>True</td>\n",
              "    </tr>\n",
              "    <tr>\n",
              "      <th>3</th>\n",
              "      <td>3092506</td>\n",
              "      <td>3092506</td>\n",
              "      <td>27.400</td>\n",
              "      <td>0.008801</td>\n",
              "      <td>0.019681</td>\n",
              "      <td>8.801465</td>\n",
              "      <td>19.680675</td>\n",
              "      <td>0.005469</td>\n",
              "      <td>0.012229</td>\n",
              "      <td>28.876199</td>\n",
              "      <td>...</td>\n",
              "      <td>57.173266</td>\n",
              "      <td>514.082140</td>\n",
              "      <td>0.983902</td>\n",
              "      <td>18.707701</td>\n",
              "      <td>1.527904</td>\n",
              "      <td>2457902.337</td>\n",
              "      <td>68.741007</td>\n",
              "      <td>0.700277</td>\n",
              "      <td>J2000</td>\n",
              "      <td>False</td>\n",
              "    </tr>\n",
              "    <tr>\n",
              "      <th>4</th>\n",
              "      <td>3514799</td>\n",
              "      <td>3514799</td>\n",
              "      <td>21.600</td>\n",
              "      <td>0.127220</td>\n",
              "      <td>0.284472</td>\n",
              "      <td>127.219878</td>\n",
              "      <td>284.472297</td>\n",
              "      <td>0.079051</td>\n",
              "      <td>0.176763</td>\n",
              "      <td>417.388066</td>\n",
              "      <td>...</td>\n",
              "      <td>84.629307</td>\n",
              "      <td>495.597821</td>\n",
              "      <td>0.967687</td>\n",
              "      <td>158.263596</td>\n",
              "      <td>1.483543</td>\n",
              "      <td>2457814.455</td>\n",
              "      <td>135.142133</td>\n",
              "      <td>0.726395</td>\n",
              "      <td>J2000</td>\n",
              "      <td>True</td>\n",
              "    </tr>\n",
              "    <tr>\n",
              "      <th>...</th>\n",
              "      <td>...</td>\n",
              "      <td>...</td>\n",
              "      <td>...</td>\n",
              "      <td>...</td>\n",
              "      <td>...</td>\n",
              "      <td>...</td>\n",
              "      <td>...</td>\n",
              "      <td>...</td>\n",
              "      <td>...</td>\n",
              "      <td>...</td>\n",
              "      <td>...</td>\n",
              "      <td>...</td>\n",
              "      <td>...</td>\n",
              "      <td>...</td>\n",
              "      <td>...</td>\n",
              "      <td>...</td>\n",
              "      <td>...</td>\n",
              "      <td>...</td>\n",
              "      <td>...</td>\n",
              "      <td>...</td>\n",
              "      <td>...</td>\n",
              "    </tr>\n",
              "    <tr>\n",
              "      <th>4682</th>\n",
              "      <td>3759007</td>\n",
              "      <td>3759007</td>\n",
              "      <td>23.900</td>\n",
              "      <td>0.044112</td>\n",
              "      <td>0.098637</td>\n",
              "      <td>44.111820</td>\n",
              "      <td>98.637028</td>\n",
              "      <td>0.027410</td>\n",
              "      <td>0.061290</td>\n",
              "      <td>144.723824</td>\n",
              "      <td>...</td>\n",
              "      <td>164.183305</td>\n",
              "      <td>457.179984</td>\n",
              "      <td>0.741558</td>\n",
              "      <td>276.395697</td>\n",
              "      <td>1.581299</td>\n",
              "      <td>2457708.228</td>\n",
              "      <td>304.306024</td>\n",
              "      <td>0.787436</td>\n",
              "      <td>J2000</td>\n",
              "      <td>False</td>\n",
              "    </tr>\n",
              "    <tr>\n",
              "      <th>4683</th>\n",
              "      <td>3759295</td>\n",
              "      <td>3759295</td>\n",
              "      <td>28.200</td>\n",
              "      <td>0.006089</td>\n",
              "      <td>0.013616</td>\n",
              "      <td>6.089126</td>\n",
              "      <td>13.615700</td>\n",
              "      <td>0.003784</td>\n",
              "      <td>0.008460</td>\n",
              "      <td>19.977449</td>\n",
              "      <td>...</td>\n",
              "      <td>345.225230</td>\n",
              "      <td>407.185767</td>\n",
              "      <td>0.996434</td>\n",
              "      <td>42.111064</td>\n",
              "      <td>1.153835</td>\n",
              "      <td>2458087.617</td>\n",
              "      <td>282.978786</td>\n",
              "      <td>0.884117</td>\n",
              "      <td>J2000</td>\n",
              "      <td>False</td>\n",
              "    </tr>\n",
              "    <tr>\n",
              "      <th>4684</th>\n",
              "      <td>3759714</td>\n",
              "      <td>3759714</td>\n",
              "      <td>22.700</td>\n",
              "      <td>0.076658</td>\n",
              "      <td>0.171412</td>\n",
              "      <td>76.657557</td>\n",
              "      <td>171.411509</td>\n",
              "      <td>0.047633</td>\n",
              "      <td>0.106510</td>\n",
              "      <td>251.501181</td>\n",
              "      <td>...</td>\n",
              "      <td>37.026468</td>\n",
              "      <td>690.054279</td>\n",
              "      <td>0.965760</td>\n",
              "      <td>274.692712</td>\n",
              "      <td>2.090708</td>\n",
              "      <td>2458300.480</td>\n",
              "      <td>203.501147</td>\n",
              "      <td>0.521698</td>\n",
              "      <td>J2000</td>\n",
              "      <td>False</td>\n",
              "    </tr>\n",
              "    <tr>\n",
              "      <th>4685</th>\n",
              "      <td>3759720</td>\n",
              "      <td>3759720</td>\n",
              "      <td>21.800</td>\n",
              "      <td>0.116026</td>\n",
              "      <td>0.259442</td>\n",
              "      <td>116.025908</td>\n",
              "      <td>259.441818</td>\n",
              "      <td>0.072095</td>\n",
              "      <td>0.161210</td>\n",
              "      <td>380.662441</td>\n",
              "      <td>...</td>\n",
              "      <td>163.802909</td>\n",
              "      <td>662.048343</td>\n",
              "      <td>1.185467</td>\n",
              "      <td>180.346090</td>\n",
              "      <td>1.787733</td>\n",
              "      <td>2458288.261</td>\n",
              "      <td>203.524965</td>\n",
              "      <td>0.543767</td>\n",
              "      <td>J2000</td>\n",
              "      <td>False</td>\n",
              "    </tr>\n",
              "    <tr>\n",
              "      <th>4686</th>\n",
              "      <td>3772978</td>\n",
              "      <td>3772978</td>\n",
              "      <td>19.109</td>\n",
              "      <td>0.400641</td>\n",
              "      <td>0.895860</td>\n",
              "      <td>400.640618</td>\n",
              "      <td>895.859655</td>\n",
              "      <td>0.248946</td>\n",
              "      <td>0.556661</td>\n",
              "      <td>1314.437764</td>\n",
              "      <td>...</td>\n",
              "      <td>187.642183</td>\n",
              "      <td>653.679098</td>\n",
              "      <td>0.876110</td>\n",
              "      <td>222.436688</td>\n",
              "      <td>2.071980</td>\n",
              "      <td>2458318.587</td>\n",
              "      <td>184.820424</td>\n",
              "      <td>0.550729</td>\n",
              "      <td>J2000</td>\n",
              "      <td>False</td>\n",
              "    </tr>\n",
              "  </tbody>\n",
              "</table>\n",
              "<p>4687 rows × 40 columns</p>\n",
              "</div>\n",
              "      <button class=\"colab-df-convert\" onclick=\"convertToInteractive('df-1d533a61-03f1-484e-8684-6b22bee0d2b4')\"\n",
              "              title=\"Convert this dataframe to an interactive table.\"\n",
              "              style=\"display:none;\">\n",
              "        \n",
              "  <svg xmlns=\"http://www.w3.org/2000/svg\" height=\"24px\"viewBox=\"0 0 24 24\"\n",
              "       width=\"24px\">\n",
              "    <path d=\"M0 0h24v24H0V0z\" fill=\"none\"/>\n",
              "    <path d=\"M18.56 5.44l.94 2.06.94-2.06 2.06-.94-2.06-.94-.94-2.06-.94 2.06-2.06.94zm-11 1L8.5 8.5l.94-2.06 2.06-.94-2.06-.94L8.5 2.5l-.94 2.06-2.06.94zm10 10l.94 2.06.94-2.06 2.06-.94-2.06-.94-.94-2.06-.94 2.06-2.06.94z\"/><path d=\"M17.41 7.96l-1.37-1.37c-.4-.4-.92-.59-1.43-.59-.52 0-1.04.2-1.43.59L10.3 9.45l-7.72 7.72c-.78.78-.78 2.05 0 2.83L4 21.41c.39.39.9.59 1.41.59.51 0 1.02-.2 1.41-.59l7.78-7.78 2.81-2.81c.8-.78.8-2.07 0-2.86zM5.41 20L4 18.59l7.72-7.72 1.47 1.35L5.41 20z\"/>\n",
              "  </svg>\n",
              "      </button>\n",
              "      \n",
              "  <style>\n",
              "    .colab-df-container {\n",
              "      display:flex;\n",
              "      flex-wrap:wrap;\n",
              "      gap: 12px;\n",
              "    }\n",
              "\n",
              "    .colab-df-convert {\n",
              "      background-color: #E8F0FE;\n",
              "      border: none;\n",
              "      border-radius: 50%;\n",
              "      cursor: pointer;\n",
              "      display: none;\n",
              "      fill: #1967D2;\n",
              "      height: 32px;\n",
              "      padding: 0 0 0 0;\n",
              "      width: 32px;\n",
              "    }\n",
              "\n",
              "    .colab-df-convert:hover {\n",
              "      background-color: #E2EBFA;\n",
              "      box-shadow: 0px 1px 2px rgba(60, 64, 67, 0.3), 0px 1px 3px 1px rgba(60, 64, 67, 0.15);\n",
              "      fill: #174EA6;\n",
              "    }\n",
              "\n",
              "    [theme=dark] .colab-df-convert {\n",
              "      background-color: #3B4455;\n",
              "      fill: #D2E3FC;\n",
              "    }\n",
              "\n",
              "    [theme=dark] .colab-df-convert:hover {\n",
              "      background-color: #434B5C;\n",
              "      box-shadow: 0px 1px 3px 1px rgba(0, 0, 0, 0.15);\n",
              "      filter: drop-shadow(0px 1px 2px rgba(0, 0, 0, 0.3));\n",
              "      fill: #FFFFFF;\n",
              "    }\n",
              "  </style>\n",
              "\n",
              "      <script>\n",
              "        const buttonEl =\n",
              "          document.querySelector('#df-1d533a61-03f1-484e-8684-6b22bee0d2b4 button.colab-df-convert');\n",
              "        buttonEl.style.display =\n",
              "          google.colab.kernel.accessAllowed ? 'block' : 'none';\n",
              "\n",
              "        async function convertToInteractive(key) {\n",
              "          const element = document.querySelector('#df-1d533a61-03f1-484e-8684-6b22bee0d2b4');\n",
              "          const dataTable =\n",
              "            await google.colab.kernel.invokeFunction('convertToInteractive',\n",
              "                                                     [key], {});\n",
              "          if (!dataTable) return;\n",
              "\n",
              "          const docLinkHtml = 'Like what you see? Visit the ' +\n",
              "            '<a target=\"_blank\" href=https://colab.research.google.com/notebooks/data_table.ipynb>data table notebook</a>'\n",
              "            + ' to learn more about interactive tables.';\n",
              "          element.innerHTML = '';\n",
              "          dataTable['output_type'] = 'display_data';\n",
              "          await google.colab.output.renderOutput(dataTable, element);\n",
              "          const docLink = document.createElement('div');\n",
              "          docLink.innerHTML = docLinkHtml;\n",
              "          element.appendChild(docLink);\n",
              "        }\n",
              "      </script>\n",
              "    </div>\n",
              "  </div>\n",
              "  "
            ]
          },
          "metadata": {},
          "execution_count": 3
        }
      ]
    },
    {
      "cell_type": "code",
      "source": [
        "df=df.drop(\"Close Approach Date\",axis=1)\n"
      ],
      "metadata": {
        "id": "2z6ybqq8tS6x"
      },
      "execution_count": 4,
      "outputs": []
    },
    {
      "cell_type": "code",
      "source": [
        "df=df.drop(\"Orbit Determination Date\",axis=1)"
      ],
      "metadata": {
        "id": "axLwrRHzvP2K"
      },
      "execution_count": 5,
      "outputs": []
    },
    {
      "cell_type": "code",
      "source": [
        "df=df.drop(\"Orbiting Body\",axis=1)"
      ],
      "metadata": {
        "id": "XMTfgLN_vp53"
      },
      "execution_count": 6,
      "outputs": []
    },
    {
      "cell_type": "code",
      "source": [
        "df=df.drop(\"Equinox\",axis=1)"
      ],
      "metadata": {
        "id": "cE1AbcMHv6E1"
      },
      "execution_count": 7,
      "outputs": []
    },
    {
      "cell_type": "code",
      "source": [
        "df.iloc[2,:-1]"
      ],
      "metadata": {
        "id": "LuWeQ3wNtoV4",
        "colab": {
          "base_uri": "https://localhost:8080/"
        },
        "outputId": "e7673c01-b567-4dc4-d5e8-8916e3df7dfc"
      },
      "execution_count": 8,
      "outputs": [
        {
          "output_type": "execute_result",
          "data": {
            "text/plain": [
              "Neo Reference ID                       2446862\n",
              "Name                                   2446862\n",
              "Absolute Magnitude                        20.3\n",
              "Est Dia in KM(min)                    0.231502\n",
              "Est Dia in KM(max)                    0.517654\n",
              "Est Dia in M(min)                   231.502122\n",
              "Est Dia in M(max)                   517.654482\n",
              "Est Dia in Miles(min)                 0.143849\n",
              "Est Dia in Miles(max)                 0.321655\n",
              "Est Dia in Feet(min)                759.521423\n",
              "Est Dia in Feet(max)               1698.341531\n",
              "Epoch Date Close Approach       789552000000.0\n",
              "Relative Velocity km per sec          7.590711\n",
              "Relative Velocity km per hr        27326.56018\n",
              "Miles per hour                      16979.6618\n",
              "Miss Dist.(Astronomical)              0.050956\n",
              "Miss Dist.(lunar)                     19.82189\n",
              "Miss Dist.(kilometers)               7622911.5\n",
              "Miss Dist.(miles)                    4736657.5\n",
              "Orbit ID                                    22\n",
              "Orbit Uncertainity                           0\n",
              "Minimum Orbit Intersection            0.043058\n",
              "Jupiter Tisserand Invariant              4.557\n",
              "Epoch Osculation                     2458000.5\n",
              "Eccentricity                          0.348248\n",
              "Semi Major Axis                       1.458824\n",
              "Inclination                           4.237961\n",
              "Asc Node Longitude                  259.475979\n",
              "Orbital Period                      643.580228\n",
              "Perihelion Distance                   0.950791\n",
              "Perihelion Arg                      248.415038\n",
              "Aphelion Dist                         1.966857\n",
              "Perihelion Time                    2458120.468\n",
              "Mean Anomaly                        292.893654\n",
              "Mean Motion                           0.559371\n",
              "Name: 2, dtype: object"
            ]
          },
          "metadata": {},
          "execution_count": 8
        }
      ]
    },
    {
      "cell_type": "code",
      "source": [
        "X = df.iloc[:,:-1]\n",
        "Y = df.iloc[:, -1]\n"
      ],
      "metadata": {
        "id": "MQfOT1enOKmY"
      },
      "execution_count": 9,
      "outputs": []
    },
    {
      "cell_type": "code",
      "source": [
        "X_train, X_test, Y_train, Y_test = train_test_split(\n",
        "    X, Y, test_size=0.5, random_state=0)"
      ],
      "metadata": {
        "id": "u1hUxSMnQ-d1"
      },
      "execution_count": 10,
      "outputs": []
    },
    {
      "cell_type": "code",
      "source": [
        "print(Y_test)\n",
        "print(X_test)\n"
      ],
      "metadata": {
        "id": "_SZS0yU4hWNo",
        "colab": {
          "base_uri": "https://localhost:8080/"
        },
        "outputId": "44a855ce-1617-4dc1-bada-eacbc5a05a84"
      },
      "execution_count": 11,
      "outputs": [
        {
          "output_type": "stream",
          "name": "stdout",
          "text": [
            "4034    False\n",
            "3607    False\n",
            "3933    False\n",
            "1736     True\n",
            "1533    False\n",
            "        ...  \n",
            "1950    False\n",
            "3045    False\n",
            "3598     True\n",
            "340     False\n",
            "4619    False\n",
            "Name: Hazardous, Length: 2344, dtype: bool\n",
            "      Neo Reference ID     Name  Absolute Magnitude  Est Dia in KM(min)  \\\n",
            "4034           3694458  3694458                26.3            0.014607   \n",
            "3607           2345646  2345646                19.9            0.278327   \n",
            "3933           3471589  3471589                23.4            0.055533   \n",
            "1736           2434326  2434326                18.4            0.555335   \n",
            "1533           2271480  2271480                17.6            0.802703   \n",
            "...                ...      ...                 ...                 ...   \n",
            "1950           3330688  3330688                23.6            0.050647   \n",
            "3045           3558381  3558381                25.8            0.018389   \n",
            "3598           3455100  3455100                21.3            0.146068   \n",
            "340            3645308  3645308                24.6            0.031956   \n",
            "4619           3759354  3759354                21.9            0.110804   \n",
            "\n",
            "      Est Dia in KM(max)  Est Dia in M(min)  Est Dia in M(max)  \\\n",
            "4034            0.032662          14.606796          32.661790   \n",
            "3607            0.622358         278.326768         622.357573   \n",
            "3933            0.124177          55.533491         124.176661   \n",
            "1736            1.241767         555.334912        1241.766613   \n",
            "1533            1.794899         802.703167        1794.898848   \n",
            "...                  ...                ...                ...   \n",
            "1950            0.113250          50.647146         113.250461   \n",
            "3045            0.041119          18.388867          41.118757   \n",
            "3598            0.326618         146.067964         326.617897   \n",
            "340             0.071456          31.956189          71.456210   \n",
            "4619            0.247765         110.803882         247.765013   \n",
            "\n",
            "      Est Dia in Miles(min)  Est Dia in Miles(max)  Est Dia in Feet(min)  ...  \\\n",
            "4034               0.009076               0.020295             47.922562  ...   \n",
            "3607               0.172944               0.386715            913.145594  ...   \n",
            "3933               0.034507               0.077160            182.196499  ...   \n",
            "1736               0.345069               0.771598           1821.964991  ...   \n",
            "1533               0.498776               1.115298           2633.540659  ...   \n",
            "...                     ...                    ...                   ...  ...   \n",
            "1950               0.031471               0.070371            166.165182  ...   \n",
            "3045               0.011426               0.025550             60.330931  ...   \n",
            "3598               0.090762               0.202951            479.225620  ...   \n",
            "340                0.019857               0.044401            104.843142  ...   \n",
            "4619               0.068850               0.153954            363.529809  ...   \n",
            "\n",
            "      Semi Major Axis  Inclination  Asc Node Longitude  Orbital Period  \\\n",
            "4034         1.942522     5.504567           33.690350      988.888259   \n",
            "3607         1.561672    17.275600           24.354493      712.825549   \n",
            "3933         0.788383     4.963366           13.853754      255.684548   \n",
            "1736         0.635216    18.944931           37.031874      184.918786   \n",
            "1533         1.260735    24.750601          169.184207      517.052060   \n",
            "...               ...          ...                 ...             ...   \n",
            "1950         0.848776    16.433379           34.733971      285.619453   \n",
            "3045         1.010080    11.558728          346.564138      370.793549   \n",
            "3598         1.213050     0.553688           84.345063      487.996460   \n",
            "340          1.284760     8.264820          312.342548      531.902030   \n",
            "4619         2.208482     7.595801          127.472514     1198.779061   \n",
            "\n",
            "      Perihelion Distance  Perihelion Arg  Aphelion Dist  Perihelion Time  \\\n",
            "4034             0.884634      297.235416       3.000409      2456908.706   \n",
            "3607             1.022533      131.633450       2.100812      2457799.961   \n",
            "3933             0.492677      201.854309       1.084090      2458084.097   \n",
            "1736             0.297791      352.992737       0.972642      2458023.338   \n",
            "1533             0.703569      285.754002       1.817902      2458201.189   \n",
            "...                   ...             ...            ...              ...   \n",
            "1950             0.627251       22.646589       1.070300      2458022.142   \n",
            "3045             0.554581      295.805736       1.465579      2457916.757   \n",
            "3598             0.716482      245.373390       1.709619      2457988.235   \n",
            "340              0.974364      321.225919       1.595157      2458070.113   \n",
            "4619             1.111402      166.372735       3.305562      2457571.242   \n",
            "\n",
            "      Mean Anomaly  Mean Motion  \n",
            "4034     18.127433     0.364045  \n",
            "3607    101.278559     0.505032  \n",
            "3933    242.297240     1.407985  \n",
            "1736    315.539623     1.946801  \n",
            "1533    220.269511     0.696255  \n",
            "...            ...          ...  \n",
            "1950    332.721793     1.260418  \n",
            "3045     81.305483     0.970891  \n",
            "3598    221.506329     0.737710  \n",
            "340     312.884735     0.676816  \n",
            "4619    128.908519     0.300306  \n",
            "\n",
            "[2344 rows x 35 columns]\n"
          ]
        }
      ]
    },
    {
      "cell_type": "markdown",
      "source": [
        "STANDERDIZATION"
      ],
      "metadata": {
        "id": "iAnkoGD90U8y"
      }
    },
    {
      "cell_type": "code",
      "source": [
        "st_x=StandardScaler()\n",
        "X_train=st_x.fit_transform(X_train)\n",
        "X_test=st_x.transform(X_test)\n"
      ],
      "metadata": {
        "id": "J4QFwnhsrquh"
      },
      "execution_count": 12,
      "outputs": []
    },
    {
      "cell_type": "code",
      "source": [
        "X_test"
      ],
      "metadata": {
        "id": "7mC8z_4AyNI-",
        "colab": {
          "base_uri": "https://localhost:8080/"
        },
        "outputId": "3f4090b5-fb6d-4303-e944-4d4177770a79"
      },
      "execution_count": 13,
      "outputs": [
        {
          "output_type": "execute_result",
          "data": {
            "text/plain": [
              "array([[ 0.76888449,  0.76888449,  1.42223037, ..., -0.92340169,\n",
              "        -1.54594263, -1.07962125],\n",
              "       [-1.69363133, -1.69363133, -0.80271339, ...,  0.05156882,\n",
              "        -0.77329252, -0.66152439],\n",
              "       [ 0.36199425,  0.36199425,  0.41405273, ...,  0.3623937 ,\n",
              "         0.53706978,  2.01617654],\n",
              "       ...,\n",
              "       [ 0.3318904 ,  0.3318904 , -0.31600694, ...,  0.25752739,\n",
              "         0.34387816,  0.02848056],\n",
              "       [ 0.6791517 ,  0.6791517 ,  0.83122969, ...,  0.34709618,\n",
              "         1.19297714, -0.15209997],\n",
              "       [ 0.88736462,  0.88736462, -0.10741847, ..., -0.19863374,\n",
              "        -0.51655165, -1.26864077]])"
            ]
          },
          "metadata": {},
          "execution_count": 13
        }
      ]
    },
    {
      "cell_type": "code",
      "source": [
        "X_train"
      ],
      "metadata": {
        "id": "0qXeizLmv4hd",
        "colab": {
          "base_uri": "https://localhost:8080/"
        },
        "outputId": "4f3c3b82-d0c9-4b8b-9b1f-7c1c4290614b"
      },
      "execution_count": 14,
      "outputs": [
        {
          "output_type": "execute_result",
          "data": {
            "text/plain": [
              "array([[ 0.8611422 ,  0.8611422 ,  1.10934766, ...,  0.23629858,\n",
              "        -1.51939029, -0.19426266],\n",
              "       [ 0.82486752,  0.82486752, -0.14218321, ...,  0.63830033,\n",
              "         0.6174831 , -1.19620894],\n",
              "       [ 0.3318904 ,  0.3318904 , -0.31600694, ...,  0.25752739,\n",
              "         0.34387816,  0.02848056],\n",
              "       ...,\n",
              "       [ 0.91610284,  0.91610284,  1.5007987 , ...,  0.22063897,\n",
              "        -1.45831727, -0.38209549],\n",
              "       [-2.16807767, -2.16807767, -1.04606662, ..., -2.52788841,\n",
              "        -0.45596801, -0.40168599],\n",
              "       [ 0.3735947 ,  0.3735947 , -0.83747814, ...,  0.31934427,\n",
              "         1.48053835, -1.0754772 ]])"
            ]
          },
          "metadata": {},
          "execution_count": 14
        }
      ]
    },
    {
      "cell_type": "code",
      "source": [
        "classifier = DecisionTreeClassifier(random_state=0)\n",
        "classifier =classifier.fit(X_train,Y_train)\n"
      ],
      "metadata": {
        "id": "w-U6M6nCzcan"
      },
      "execution_count": 23,
      "outputs": []
    },
    {
      "cell_type": "code",
      "source": [
        "y_pred = classifier.predict(X_test)\n",
        "print(\"Accuracy:\",metrics.accuracy_score(Y_test, y_pred))"
      ],
      "metadata": {
        "colab": {
          "base_uri": "https://localhost:8080/"
        },
        "id": "0lIdFcY-4Vkr",
        "outputId": "4a46aa0c-384c-4ed1-8c6a-2e94c1b7f6aa"
      },
      "execution_count": 24,
      "outputs": [
        {
          "output_type": "stream",
          "name": "stdout",
          "text": [
            "Accuracy: 0.9953071672354948\n"
          ]
        }
      ]
    },
    {
      "cell_type": "code",
      "source": [
        "y_pred"
      ],
      "metadata": {
        "colab": {
          "base_uri": "https://localhost:8080/"
        },
        "id": "7V2r5nz_rlDh",
        "outputId": "d73e302e-7963-4cbf-9118-ebc851d23446"
      },
      "execution_count": 25,
      "outputs": [
        {
          "output_type": "execute_result",
          "data": {
            "text/plain": [
              "array([False, False, False, ...,  True, False, False])"
            ]
          },
          "metadata": {},
          "execution_count": 25
        }
      ]
    },
    {
      "cell_type": "code",
      "source": [
        "confusion=confusion_matrix(Y_test,y_pred)\n",
        "confusion"
      ],
      "metadata": {
        "colab": {
          "base_uri": "https://localhost:8080/"
        },
        "id": "jcdFEYQk6RjJ",
        "outputId": "98771f38-c56c-416a-9048-f3c039bdad76"
      },
      "execution_count": 26,
      "outputs": [
        {
          "output_type": "execute_result",
          "data": {
            "text/plain": [
              "array([[1961,    4],\n",
              "       [   7,  372]])"
            ]
          },
          "metadata": {},
          "execution_count": 26
        }
      ]
    },
    {
      "cell_type": "markdown",
      "source": [
        "for converting a string to float in dataset\n"
      ],
      "metadata": {
        "id": "Uka3s5icvyBh"
      }
    },
    {
      "cell_type": "code",
      "source": [
        "#for coln in df:\n",
        "  #df[coln]=df[coln].astype(category).cat.codes"
      ],
      "metadata": {
        "id": "O2c577EAvZt8"
      },
      "execution_count": null,
      "outputs": []
    },
    {
      "cell_type": "code",
      "source": [
        "tree.plot_tree(classifier);"
      ],
      "metadata": {
        "colab": {
          "base_uri": "https://localhost:8080/",
          "height": 248
        },
        "id": "k3uI0RnlzVyA",
        "outputId": "8ef3ddfb-4e9a-49e7-f939-78c8ba2d3ed9"
      },
      "execution_count": 27,
      "outputs": [
        {
          "output_type": "display_data",
          "data": {
            "text/plain": [
              "<Figure size 432x288 with 1 Axes>"
            ],
            "image/png": "[encoded data removed]"
          },
          "metadata": {
            "needs_background": "light"
          }
        }
      ]
    },
    {
      "cell_type": "code",
      "source": [
        "graphviz.Source(export_graphviz(classifier,feature_names=X.columns,filled=True,class_names=['1','2','3','4','5','6','7'],out_file=None))"
      ],
      "metadata": {
        "colab": {
          "base_uri": "https://localhost:8080/",
          "height": 1000
        },
        "id": "RG6GWQZQ0lQ_",
        "outputId": "cd1c78c9-93f2-4278-f337-736f8b487aa1"
      },
      "execution_count": 28,
      "outputs": [
        {
          "output_type": "execute_result",
          "data": {
            "text/plain": [
              "<graphviz.files.Source at 0x7fa99b821190>"
            ],
            "image/svg+xml": "<?xml version=\"1.0\" encoding=\"UTF-8\" standalone=\"no\"?>\n<!DOCTYPE svg PUBLIC \"-//W3C//DTD SVG 1.1//EN\"\n \"http://www.w3.org/Graphics/SVG/1.1/DTD/svg11.dtd\">\n<!-- Generated by graphviz version 2.40.1 (20161225.0304)\n -->\n<!-- Title: Tree Pages: 1 -->\n<svg width=\"705pt\" height=\"790pt\"\n viewBox=\"0.00 0.00 704.50 790.00\" xmlns=\"http://www.w3.org/2000/svg\" xmlns:xlink=\"http://www.w3.org/1999/xlink\">\n<g id=\"graph0\" class=\"graph\" transform=\"scale(1 1) rotate(0) translate(4 786)\">\n<title>Tree</title>\n<polygon fill=\"#ffffff\" stroke=\"transparent\" points=\"-4,4 -4,-786 700.5,-786 700.5,4 -4,4\"/>\n<!-- 0 -->\n<g id=\"node1\" class=\"node\">\n<title>0</title>\n<polygon fill=\"#ea995f\" stroke=\"#000000\" points=\"622,-782 368,-782 368,-699 622,-699 622,-782\"/>\n<text text-anchor=\"middle\" x=\"495\" y=\"-766.8\" font-family=\"Helvetica,sans-Serif\" font-size=\"14.00\" fill=\"#000000\">Minimum Orbit Intersection &lt;= &#45;0.361</text>\n<text text-anchor=\"middle\" x=\"495\" y=\"-751.8\" font-family=\"Helvetica,sans-Serif\" font-size=\"14.00\" fill=\"#000000\">gini = 0.269</text>\n<text text-anchor=\"middle\" x=\"495\" y=\"-736.8\" font-family=\"Helvetica,sans-Serif\" font-size=\"14.00\" fill=\"#000000\">samples = 2343</text>\n<text text-anchor=\"middle\" x=\"495\" y=\"-721.8\" font-family=\"Helvetica,sans-Serif\" font-size=\"14.00\" fill=\"#000000\">value = [1967, 376]</text>\n<text text-anchor=\"middle\" x=\"495\" y=\"-706.8\" font-family=\"Helvetica,sans-Serif\" font-size=\"14.00\" fill=\"#000000\">class = 1</text>\n</g>\n<!-- 1 -->\n<g id=\"node2\" class=\"node\">\n<title>1</title>\n<polygon fill=\"#f1bc95\" stroke=\"#000000\" points=\"507,-663 301,-663 301,-580 507,-580 507,-663\"/>\n<text text-anchor=\"middle\" x=\"404\" y=\"-647.8\" font-family=\"Helvetica,sans-Serif\" font-size=\"14.00\" fill=\"#000000\">Est Dia in KM(max) &lt;= &#45;0.235</text>\n<text text-anchor=\"middle\" x=\"404\" y=\"-632.8\" font-family=\"Helvetica,sans-Serif\" font-size=\"14.00\" fill=\"#000000\">gini = 0.433</text>\n<text text-anchor=\"middle\" x=\"404\" y=\"-617.8\" font-family=\"Helvetica,sans-Serif\" font-size=\"14.00\" fill=\"#000000\">samples = 1185</text>\n<text text-anchor=\"middle\" x=\"404\" y=\"-602.8\" font-family=\"Helvetica,sans-Serif\" font-size=\"14.00\" fill=\"#000000\">value = [809, 376]</text>\n<text text-anchor=\"middle\" x=\"404\" y=\"-587.8\" font-family=\"Helvetica,sans-Serif\" font-size=\"14.00\" fill=\"#000000\">class = 1</text>\n</g>\n<!-- 0&#45;&gt;1 -->\n<g id=\"edge1\" class=\"edge\">\n<title>0&#45;&gt;1</title>\n<path fill=\"none\" stroke=\"#000000\" d=\"M463.1726,-698.8796C456.3543,-689.9633 449.0844,-680.4565 442.0579,-671.268\"/>\n<polygon fill=\"#000000\" stroke=\"#000000\" points=\"444.818,-669.1156 435.9632,-663.2981 439.2575,-673.3678 444.818,-669.1156\"/>\n<text text-anchor=\"middle\" x=\"432.6591\" y=\"-684.3788\" font-family=\"Helvetica,sans-Serif\" font-size=\"14.00\" fill=\"#000000\">True</text>\n</g>\n<!-- 16 -->\n<g id=\"node17\" class=\"node\">\n<title>16</title>\n<polygon fill=\"#e58139\" stroke=\"#000000\" points=\"649,-655.5 525,-655.5 525,-587.5 649,-587.5 649,-655.5\"/>\n<text text-anchor=\"middle\" x=\"587\" y=\"-640.3\" font-family=\"Helvetica,sans-Serif\" font-size=\"14.00\" fill=\"#000000\">gini = 0.0</text>\n<text text-anchor=\"middle\" x=\"587\" y=\"-625.3\" font-family=\"Helvetica,sans-Serif\" font-size=\"14.00\" fill=\"#000000\">samples = 1158</text>\n<text text-anchor=\"middle\" x=\"587\" y=\"-610.3\" font-family=\"Helvetica,sans-Serif\" font-size=\"14.00\" fill=\"#000000\">value = [1158, 0]</text>\n<text text-anchor=\"middle\" x=\"587\" y=\"-595.3\" font-family=\"Helvetica,sans-Serif\" font-size=\"14.00\" fill=\"#000000\">class = 1</text>\n</g>\n<!-- 0&#45;&gt;16 -->\n<g id=\"edge16\" class=\"edge\">\n<title>0&#45;&gt;16</title>\n<path fill=\"none\" stroke=\"#000000\" d=\"M527.1771,-698.8796C535.9333,-687.5536 545.4262,-675.2748 554.2156,-663.9058\"/>\n<polygon fill=\"#000000\" stroke=\"#000000\" points=\"557.1234,-665.8671 560.4708,-655.8149 551.5854,-661.5856 557.1234,-665.8671\"/>\n<text text-anchor=\"middle\" x=\"563.644\" y=\"-676.9127\" font-family=\"Helvetica,sans-Serif\" font-size=\"14.00\" fill=\"#000000\">False</text>\n</g>\n<!-- 2 -->\n<g id=\"node3\" class=\"node\">\n<title>2</title>\n<polygon fill=\"#e5823b\" stroke=\"#000000\" points=\"419.5,-544 206.5,-544 206.5,-461 419.5,-461 419.5,-544\"/>\n<text text-anchor=\"middle\" x=\"313\" y=\"-528.8\" font-family=\"Helvetica,sans-Serif\" font-size=\"14.00\" fill=\"#000000\">Est Dia in Miles(min) &lt;= &#45;0.257</text>\n<text text-anchor=\"middle\" x=\"313\" y=\"-513.8\" font-family=\"Helvetica,sans-Serif\" font-size=\"14.00\" fill=\"#000000\">gini = 0.019</text>\n<text text-anchor=\"middle\" x=\"313\" y=\"-498.8\" font-family=\"Helvetica,sans-Serif\" font-size=\"14.00\" fill=\"#000000\">samples = 817</text>\n<text text-anchor=\"middle\" x=\"313\" y=\"-483.8\" font-family=\"Helvetica,sans-Serif\" font-size=\"14.00\" fill=\"#000000\">value = [809, 8]</text>\n<text text-anchor=\"middle\" x=\"313\" y=\"-468.8\" font-family=\"Helvetica,sans-Serif\" font-size=\"14.00\" fill=\"#000000\">class = 1</text>\n</g>\n<!-- 1&#45;&gt;2 -->\n<g id=\"edge2\" class=\"edge\">\n<title>1&#45;&gt;2</title>\n<path fill=\"none\" stroke=\"#000000\" d=\"M372.1726,-579.8796C365.3543,-570.9633 358.0844,-561.4565 351.0579,-552.268\"/>\n<polygon fill=\"#000000\" stroke=\"#000000\" points=\"353.818,-550.1156 344.9632,-544.2981 348.2575,-554.3678 353.818,-550.1156\"/>\n</g>\n<!-- 15 -->\n<g id=\"node16\" class=\"node\">\n<title>15</title>\n<polygon fill=\"#399de5\" stroke=\"#000000\" points=\"553,-536.5 437,-536.5 437,-468.5 553,-468.5 553,-536.5\"/>\n<text text-anchor=\"middle\" x=\"495\" y=\"-521.3\" font-family=\"Helvetica,sans-Serif\" font-size=\"14.00\" fill=\"#000000\">gini = 0.0</text>\n<text text-anchor=\"middle\" x=\"495\" y=\"-506.3\" font-family=\"Helvetica,sans-Serif\" font-size=\"14.00\" fill=\"#000000\">samples = 368</text>\n<text text-anchor=\"middle\" x=\"495\" y=\"-491.3\" font-family=\"Helvetica,sans-Serif\" font-size=\"14.00\" fill=\"#000000\">value = [0, 368]</text>\n<text text-anchor=\"middle\" x=\"495\" y=\"-476.3\" font-family=\"Helvetica,sans-Serif\" font-size=\"14.00\" fill=\"#000000\">class = 2</text>\n</g>\n<!-- 1&#45;&gt;15 -->\n<g id=\"edge15\" class=\"edge\">\n<title>1&#45;&gt;15</title>\n<path fill=\"none\" stroke=\"#000000\" d=\"M435.8274,-579.8796C444.4884,-568.5536 453.8781,-556.2748 462.572,-544.9058\"/>\n<polygon fill=\"#000000\" stroke=\"#000000\" points=\"465.4649,-546.8846 468.7592,-536.8149 459.9044,-542.6324 465.4649,-546.8846\"/>\n</g>\n<!-- 3 -->\n<g id=\"node4\" class=\"node\">\n<title>3</title>\n<polygon fill=\"#e58139\" stroke=\"#000000\" points=\"315.5,-425 124.5,-425 124.5,-342 315.5,-342 315.5,-425\"/>\n<text text-anchor=\"middle\" x=\"220\" y=\"-409.8\" font-family=\"Helvetica,sans-Serif\" font-size=\"14.00\" fill=\"#000000\">Est Dia in M(min) &lt;= &#45;0.267</text>\n<text text-anchor=\"middle\" x=\"220\" y=\"-394.8\" font-family=\"Helvetica,sans-Serif\" font-size=\"14.00\" fill=\"#000000\">gini = 0.003</text>\n<text text-anchor=\"middle\" x=\"220\" y=\"-379.8\" font-family=\"Helvetica,sans-Serif\" font-size=\"14.00\" fill=\"#000000\">samples = 798</text>\n<text text-anchor=\"middle\" x=\"220\" y=\"-364.8\" font-family=\"Helvetica,sans-Serif\" font-size=\"14.00\" fill=\"#000000\">value = [797, 1]</text>\n<text text-anchor=\"middle\" x=\"220\" y=\"-349.8\" font-family=\"Helvetica,sans-Serif\" font-size=\"14.00\" fill=\"#000000\">class = 1</text>\n</g>\n<!-- 2&#45;&gt;3 -->\n<g id=\"edge3\" class=\"edge\">\n<title>2&#45;&gt;3</title>\n<path fill=\"none\" stroke=\"#000000\" d=\"M280.4731,-460.8796C273.5049,-451.9633 266.0753,-442.4565 258.8944,-433.268\"/>\n<polygon fill=\"#000000\" stroke=\"#000000\" points=\"261.5812,-431.0221 252.6657,-425.2981 256.0657,-435.3326 261.5812,-431.0221\"/>\n</g>\n<!-- 8 -->\n<g id=\"node9\" class=\"node\">\n<title>8</title>\n<polygon fill=\"#f4caac\" stroke=\"#000000\" points=\"480.5,-425 333.5,-425 333.5,-342 480.5,-342 480.5,-425\"/>\n<text text-anchor=\"middle\" x=\"407\" y=\"-409.8\" font-family=\"Helvetica,sans-Serif\" font-size=\"14.00\" fill=\"#000000\">Inclination &lt;= &#45;0.935</text>\n<text text-anchor=\"middle\" x=\"407\" y=\"-394.8\" font-family=\"Helvetica,sans-Serif\" font-size=\"14.00\" fill=\"#000000\">gini = 0.465</text>\n<text text-anchor=\"middle\" x=\"407\" y=\"-379.8\" font-family=\"Helvetica,sans-Serif\" font-size=\"14.00\" fill=\"#000000\">samples = 19</text>\n<text text-anchor=\"middle\" x=\"407\" y=\"-364.8\" font-family=\"Helvetica,sans-Serif\" font-size=\"14.00\" fill=\"#000000\">value = [12, 7]</text>\n<text text-anchor=\"middle\" x=\"407\" y=\"-349.8\" font-family=\"Helvetica,sans-Serif\" font-size=\"14.00\" fill=\"#000000\">class = 1</text>\n</g>\n<!-- 2&#45;&gt;8 -->\n<g id=\"edge8\" class=\"edge\">\n<title>2&#45;&gt;8</title>\n<path fill=\"none\" stroke=\"#000000\" d=\"M345.8766,-460.8796C352.9197,-451.9633 360.4293,-442.4565 367.6874,-433.268\"/>\n<polygon fill=\"#000000\" stroke=\"#000000\" points=\"370.5309,-435.3147 373.983,-425.2981 365.0379,-430.9757 370.5309,-435.3147\"/>\n</g>\n<!-- 4 -->\n<g id=\"node5\" class=\"node\">\n<title>4</title>\n<polygon fill=\"#e58139\" stroke=\"#000000\" points=\"116,-298.5 0,-298.5 0,-230.5 116,-230.5 116,-298.5\"/>\n<text text-anchor=\"middle\" x=\"58\" y=\"-283.3\" font-family=\"Helvetica,sans-Serif\" font-size=\"14.00\" fill=\"#000000\">gini = 0.0</text>\n<text text-anchor=\"middle\" x=\"58\" y=\"-268.3\" font-family=\"Helvetica,sans-Serif\" font-size=\"14.00\" fill=\"#000000\">samples = 785</text>\n<text text-anchor=\"middle\" x=\"58\" y=\"-253.3\" font-family=\"Helvetica,sans-Serif\" font-size=\"14.00\" fill=\"#000000\">value = [785, 0]</text>\n<text text-anchor=\"middle\" x=\"58\" y=\"-238.3\" font-family=\"Helvetica,sans-Serif\" font-size=\"14.00\" fill=\"#000000\">class = 1</text>\n</g>\n<!-- 3&#45;&gt;4 -->\n<g id=\"edge4\" class=\"edge\">\n<title>3&#45;&gt;4</title>\n<path fill=\"none\" stroke=\"#000000\" d=\"M163.3403,-341.8796C146.9459,-329.8368 129.0849,-316.7167 112.8058,-304.7586\"/>\n<polygon fill=\"#000000\" stroke=\"#000000\" points=\"114.5846,-301.7224 104.4532,-298.623 110.4405,-307.3639 114.5846,-301.7224\"/>\n</g>\n<!-- 5 -->\n<g id=\"node6\" class=\"node\">\n<title>5</title>\n<polygon fill=\"#e78c49\" stroke=\"#000000\" points=\"319.5,-306 134.5,-306 134.5,-223 319.5,-223 319.5,-306\"/>\n<text text-anchor=\"middle\" x=\"227\" y=\"-290.8\" font-family=\"Helvetica,sans-Serif\" font-size=\"14.00\" fill=\"#000000\">Semi Major Axis &lt;= &#45;0.948</text>\n<text text-anchor=\"middle\" x=\"227\" y=\"-275.8\" font-family=\"Helvetica,sans-Serif\" font-size=\"14.00\" fill=\"#000000\">gini = 0.142</text>\n<text text-anchor=\"middle\" x=\"227\" y=\"-260.8\" font-family=\"Helvetica,sans-Serif\" font-size=\"14.00\" fill=\"#000000\">samples = 13</text>\n<text text-anchor=\"middle\" x=\"227\" y=\"-245.8\" font-family=\"Helvetica,sans-Serif\" font-size=\"14.00\" fill=\"#000000\">value = [12, 1]</text>\n<text text-anchor=\"middle\" x=\"227\" y=\"-230.8\" font-family=\"Helvetica,sans-Serif\" font-size=\"14.00\" fill=\"#000000\">class = 1</text>\n</g>\n<!-- 3&#45;&gt;5 -->\n<g id=\"edge5\" class=\"edge\">\n<title>3&#45;&gt;5</title>\n<path fill=\"none\" stroke=\"#000000\" d=\"M222.4483,-341.8796C222.9304,-333.6838 223.4418,-324.9891 223.9411,-316.5013\"/>\n<polygon fill=\"#000000\" stroke=\"#000000\" points=\"227.4479,-316.4864 224.5413,-306.2981 220.46,-316.0753 227.4479,-316.4864\"/>\n</g>\n<!-- 6 -->\n<g id=\"node7\" class=\"node\">\n<title>6</title>\n<polygon fill=\"#399de5\" stroke=\"#000000\" points=\"228.5,-179.5 129.5,-179.5 129.5,-111.5 228.5,-111.5 228.5,-179.5\"/>\n<text text-anchor=\"middle\" x=\"179\" y=\"-164.3\" font-family=\"Helvetica,sans-Serif\" font-size=\"14.00\" fill=\"#000000\">gini = 0.0</text>\n<text text-anchor=\"middle\" x=\"179\" y=\"-149.3\" font-family=\"Helvetica,sans-Serif\" font-size=\"14.00\" fill=\"#000000\">samples = 1</text>\n<text text-anchor=\"middle\" x=\"179\" y=\"-134.3\" font-family=\"Helvetica,sans-Serif\" font-size=\"14.00\" fill=\"#000000\">value = [0, 1]</text>\n<text text-anchor=\"middle\" x=\"179\" y=\"-119.3\" font-family=\"Helvetica,sans-Serif\" font-size=\"14.00\" fill=\"#000000\">class = 2</text>\n</g>\n<!-- 5&#45;&gt;6 -->\n<g id=\"edge6\" class=\"edge\">\n<title>5&#45;&gt;6</title>\n<path fill=\"none\" stroke=\"#000000\" d=\"M210.2119,-222.8796C205.8209,-211.9935 201.0748,-200.227 196.6408,-189.2344\"/>\n<polygon fill=\"#000000\" stroke=\"#000000\" points=\"199.828,-187.7796 192.8413,-179.8149 193.3362,-190.3982 199.828,-187.7796\"/>\n</g>\n<!-- 7 -->\n<g id=\"node8\" class=\"node\">\n<title>7</title>\n<polygon fill=\"#e58139\" stroke=\"#000000\" points=\"353.5,-179.5 246.5,-179.5 246.5,-111.5 353.5,-111.5 353.5,-179.5\"/>\n<text text-anchor=\"middle\" x=\"300\" y=\"-164.3\" font-family=\"Helvetica,sans-Serif\" font-size=\"14.00\" fill=\"#000000\">gini = 0.0</text>\n<text text-anchor=\"middle\" x=\"300\" y=\"-149.3\" font-family=\"Helvetica,sans-Serif\" font-size=\"14.00\" fill=\"#000000\">samples = 12</text>\n<text text-anchor=\"middle\" x=\"300\" y=\"-134.3\" font-family=\"Helvetica,sans-Serif\" font-size=\"14.00\" fill=\"#000000\">value = [12, 0]</text>\n<text text-anchor=\"middle\" x=\"300\" y=\"-119.3\" font-family=\"Helvetica,sans-Serif\" font-size=\"14.00\" fill=\"#000000\">class = 1</text>\n</g>\n<!-- 5&#45;&gt;7 -->\n<g id=\"edge7\" class=\"edge\">\n<title>5&#45;&gt;7</title>\n<path fill=\"none\" stroke=\"#000000\" d=\"M252.5319,-222.8796C259.3448,-211.7735 266.7198,-199.7513 273.5794,-188.5691\"/>\n<polygon fill=\"#000000\" stroke=\"#000000\" points=\"276.704,-190.1691 278.9497,-179.8149 270.7372,-186.5087 276.704,-190.1691\"/>\n</g>\n<!-- 9 -->\n<g id=\"node10\" class=\"node\">\n<title>9</title>\n<polygon fill=\"#399de5\" stroke=\"#000000\" points=\"449.5,-298.5 350.5,-298.5 350.5,-230.5 449.5,-230.5 449.5,-298.5\"/>\n<text text-anchor=\"middle\" x=\"400\" y=\"-283.3\" font-family=\"Helvetica,sans-Serif\" font-size=\"14.00\" fill=\"#000000\">gini = 0.0</text>\n<text text-anchor=\"middle\" x=\"400\" y=\"-268.3\" font-family=\"Helvetica,sans-Serif\" font-size=\"14.00\" fill=\"#000000\">samples = 4</text>\n<text text-anchor=\"middle\" x=\"400\" y=\"-253.3\" font-family=\"Helvetica,sans-Serif\" font-size=\"14.00\" fill=\"#000000\">value = [0, 4]</text>\n<text text-anchor=\"middle\" x=\"400\" y=\"-238.3\" font-family=\"Helvetica,sans-Serif\" font-size=\"14.00\" fill=\"#000000\">class = 2</text>\n</g>\n<!-- 8&#45;&gt;9 -->\n<g id=\"edge9\" class=\"edge\">\n<title>8&#45;&gt;9</title>\n<path fill=\"none\" stroke=\"#000000\" d=\"M404.5517,-341.8796C403.9243,-331.2134 403.2472,-319.7021 402.6119,-308.9015\"/>\n<polygon fill=\"#000000\" stroke=\"#000000\" points=\"406.0998,-308.5921 402.0185,-298.8149 399.1119,-309.0032 406.0998,-308.5921\"/>\n</g>\n<!-- 10 -->\n<g id=\"node11\" class=\"node\">\n<title>10</title>\n<polygon fill=\"#eca06a\" stroke=\"#000000\" points=\"614.5,-306 467.5,-306 467.5,-223 614.5,-223 614.5,-306\"/>\n<text text-anchor=\"middle\" x=\"541\" y=\"-290.8\" font-family=\"Helvetica,sans-Serif\" font-size=\"14.00\" fill=\"#000000\">Inclination &lt;= &#45;0.699</text>\n<text text-anchor=\"middle\" x=\"541\" y=\"-275.8\" font-family=\"Helvetica,sans-Serif\" font-size=\"14.00\" fill=\"#000000\">gini = 0.32</text>\n<text text-anchor=\"middle\" x=\"541\" y=\"-260.8\" font-family=\"Helvetica,sans-Serif\" font-size=\"14.00\" fill=\"#000000\">samples = 15</text>\n<text text-anchor=\"middle\" x=\"541\" y=\"-245.8\" font-family=\"Helvetica,sans-Serif\" font-size=\"14.00\" fill=\"#000000\">value = [12, 3]</text>\n<text text-anchor=\"middle\" x=\"541\" y=\"-230.8\" font-family=\"Helvetica,sans-Serif\" font-size=\"14.00\" fill=\"#000000\">class = 1</text>\n</g>\n<!-- 8&#45;&gt;10 -->\n<g id=\"edge10\" class=\"edge\">\n<title>8&#45;&gt;10</title>\n<path fill=\"none\" stroke=\"#000000\" d=\"M453.8667,-341.8796C464.3125,-332.6031 475.4781,-322.6874 486.211,-313.1559\"/>\n<polygon fill=\"#000000\" stroke=\"#000000\" points=\"488.7801,-315.5553 493.9333,-306.2981 484.132,-310.3213 488.7801,-315.5553\"/>\n</g>\n<!-- 11 -->\n<g id=\"node12\" class=\"node\">\n<title>11</title>\n<polygon fill=\"#e58139\" stroke=\"#000000\" points=\"482.5,-179.5 383.5,-179.5 383.5,-111.5 482.5,-111.5 482.5,-179.5\"/>\n<text text-anchor=\"middle\" x=\"433\" y=\"-164.3\" font-family=\"Helvetica,sans-Serif\" font-size=\"14.00\" fill=\"#000000\">gini = 0.0</text>\n<text text-anchor=\"middle\" x=\"433\" y=\"-149.3\" font-family=\"Helvetica,sans-Serif\" font-size=\"14.00\" fill=\"#000000\">samples = 8</text>\n<text text-anchor=\"middle\" x=\"433\" y=\"-134.3\" font-family=\"Helvetica,sans-Serif\" font-size=\"14.00\" fill=\"#000000\">value = [8, 0]</text>\n<text text-anchor=\"middle\" x=\"433\" y=\"-119.3\" font-family=\"Helvetica,sans-Serif\" font-size=\"14.00\" fill=\"#000000\">class = 1</text>\n</g>\n<!-- 10&#45;&gt;11 -->\n<g id=\"edge11\" class=\"edge\">\n<title>10&#45;&gt;11</title>\n<path fill=\"none\" stroke=\"#000000\" d=\"M503.2268,-222.8796C492.7482,-211.3337 481.3709,-198.7976 470.8859,-187.2446\"/>\n<polygon fill=\"#000000\" stroke=\"#000000\" points=\"473.4553,-184.8678 464.143,-179.8149 468.2718,-189.5722 473.4553,-184.8678\"/>\n</g>\n<!-- 12 -->\n<g id=\"node13\" class=\"node\">\n<title>12</title>\n<polygon fill=\"#f8e0ce\" stroke=\"#000000\" points=\"677.5,-187 500.5,-187 500.5,-104 677.5,-104 677.5,-187\"/>\n<text text-anchor=\"middle\" x=\"589\" y=\"-171.8\" font-family=\"Helvetica,sans-Serif\" font-size=\"14.00\" fill=\"#000000\">Perihelion Time &lt;= 0.189</text>\n<text text-anchor=\"middle\" x=\"589\" y=\"-156.8\" font-family=\"Helvetica,sans-Serif\" font-size=\"14.00\" fill=\"#000000\">gini = 0.49</text>\n<text text-anchor=\"middle\" x=\"589\" y=\"-141.8\" font-family=\"Helvetica,sans-Serif\" font-size=\"14.00\" fill=\"#000000\">samples = 7</text>\n<text text-anchor=\"middle\" x=\"589\" y=\"-126.8\" font-family=\"Helvetica,sans-Serif\" font-size=\"14.00\" fill=\"#000000\">value = [4, 3]</text>\n<text text-anchor=\"middle\" x=\"589\" y=\"-111.8\" font-family=\"Helvetica,sans-Serif\" font-size=\"14.00\" fill=\"#000000\">class = 1</text>\n</g>\n<!-- 10&#45;&gt;12 -->\n<g id=\"edge12\" class=\"edge\">\n<title>10&#45;&gt;12</title>\n<path fill=\"none\" stroke=\"#000000\" d=\"M557.7881,-222.8796C561.2029,-214.4136 564.8325,-205.4153 568.363,-196.6626\"/>\n<polygon fill=\"#000000\" stroke=\"#000000\" points=\"571.6453,-197.8813 572.1403,-187.2981 565.1536,-195.2628 571.6453,-197.8813\"/>\n</g>\n<!-- 13 -->\n<g id=\"node14\" class=\"node\">\n<title>13</title>\n<polygon fill=\"#e58139\" stroke=\"#000000\" points=\"579.5,-68 480.5,-68 480.5,0 579.5,0 579.5,-68\"/>\n<text text-anchor=\"middle\" x=\"530\" y=\"-52.8\" font-family=\"Helvetica,sans-Serif\" font-size=\"14.00\" fill=\"#000000\">gini = 0.0</text>\n<text text-anchor=\"middle\" x=\"530\" y=\"-37.8\" font-family=\"Helvetica,sans-Serif\" font-size=\"14.00\" fill=\"#000000\">samples = 4</text>\n<text text-anchor=\"middle\" x=\"530\" y=\"-22.8\" font-family=\"Helvetica,sans-Serif\" font-size=\"14.00\" fill=\"#000000\">value = [4, 0]</text>\n<text text-anchor=\"middle\" x=\"530\" y=\"-7.8\" font-family=\"Helvetica,sans-Serif\" font-size=\"14.00\" fill=\"#000000\">class = 1</text>\n</g>\n<!-- 12&#45;&gt;13 -->\n<g id=\"edge13\" class=\"edge\">\n<title>12&#45;&gt;13</title>\n<path fill=\"none\" stroke=\"#000000\" d=\"M567.0306,-103.9815C562.4105,-95.2504 557.5264,-86.0202 552.874,-77.2281\"/>\n<polygon fill=\"#000000\" stroke=\"#000000\" points=\"555.9013,-75.4655 548.1306,-68.2637 549.7141,-78.7395 555.9013,-75.4655\"/>\n</g>\n<!-- 14 -->\n<g id=\"node15\" class=\"node\">\n<title>14</title>\n<polygon fill=\"#399de5\" stroke=\"#000000\" points=\"696.5,-68 597.5,-68 597.5,0 696.5,0 696.5,-68\"/>\n<text text-anchor=\"middle\" x=\"647\" y=\"-52.8\" font-family=\"Helvetica,sans-Serif\" font-size=\"14.00\" fill=\"#000000\">gini = 0.0</text>\n<text text-anchor=\"middle\" x=\"647\" y=\"-37.8\" font-family=\"Helvetica,sans-Serif\" font-size=\"14.00\" fill=\"#000000\">samples = 3</text>\n<text text-anchor=\"middle\" x=\"647\" y=\"-22.8\" font-family=\"Helvetica,sans-Serif\" font-size=\"14.00\" fill=\"#000000\">value = [0, 3]</text>\n<text text-anchor=\"middle\" x=\"647\" y=\"-7.8\" font-family=\"Helvetica,sans-Serif\" font-size=\"14.00\" fill=\"#000000\">class = 2</text>\n</g>\n<!-- 12&#45;&gt;14 -->\n<g id=\"edge14\" class=\"edge\">\n<title>12&#45;&gt;14</title>\n<path fill=\"none\" stroke=\"#000000\" d=\"M610.5971,-103.9815C615.1388,-95.2504 619.9402,-86.0202 624.5137,-77.2281\"/>\n<polygon fill=\"#000000\" stroke=\"#000000\" points=\"627.6669,-78.7504 629.1767,-68.2637 621.4569,-75.52 627.6669,-78.7504\"/>\n</g>\n</g>\n</svg>\n"
          },
          "metadata": {},
          "execution_count": 28
        }
      ]
    }
  ]
}